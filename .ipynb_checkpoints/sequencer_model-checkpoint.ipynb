{
 "cells": [
  {
   "cell_type": "markdown",
   "id": "9626edde-6e0a-4a61-ad06-e33b1b41f3fc",
   "metadata": {},
   "source": [
    "This is where I will be testing out Sean's sequencing+ model."
   ]
  },
  {
   "cell_type": "markdown",
   "id": "53d0d9cf-fbd2-426e-8324-779016911eaf",
   "metadata": {},
   "source": [
    "Notes from lookng at tjstuff+:\n",
    "\n",
    "When trying to predict expected run value delta with pitch outcome, needed to average within each possible count within an outcome because count greatly impacts xRV\n",
    "\n",
    "tjstuff+ 1.0\n",
    "* machine learning model XGboosted tree which aims to predict how effective a pitch is at limiting runs by using the physical characteristics of the pitch.\n",
    "* Features: speed, spin, break, etc\n",
    "* Target: xRV broken out by count and outcome\n",
    "\n",
    "tjstuff+ 2.0\n",
    "- feature changes: extension to log_extension, fastball differentials to primary pitch differentials\n",
    "- target still xRV. he takes average xRV broken out across count and pitch outcome, then makes that average the target for a model\n",
    "- better hyper parameter tuning\n",
    "- this model takes all the physical characteristics of a pitch and then tries to predict the xRV to determine how good the outcome of the pitch will be. I don't like how this doesn't control for count because the proportion of pitches thrown at certain points in the count will affect a pitch's perceived effectiveness. If we include count as an input, it knows there are only a few numbers it can hit for xRV, so it will be able to better predict the outcome/event given the pitch's characteristics"
   ]
  }
 ],
 "metadata": {
  "kernelspec": {
   "display_name": "Python 3 (ipykernel)",
   "language": "python",
   "name": "python3"
  },
  "language_info": {
   "codemirror_mode": {
    "name": "ipython",
    "version": 3
   },
   "file_extension": ".py",
   "mimetype": "text/x-python",
   "name": "python",
   "nbconvert_exporter": "python",
   "pygments_lexer": "ipython3",
   "version": "3.11.5"
  }
 },
 "nbformat": 4,
 "nbformat_minor": 5
}
